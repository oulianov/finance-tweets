{
 "cells": [
  {
   "cell_type": "markdown",
   "metadata": {},
   "source": [
    "# An NLP-powered exploration of financial tweets\n",
    "\n"
   ]
  },
  {
   "cell_type": "code",
   "execution_count": 171,
   "metadata": {},
   "outputs": [],
   "source": [
    "import pandas as pd\n",
    "import nltk\n",
    "import seaborn as sns\n",
    "import matplotlib.pyplot as plt\n",
    "\n",
    "from datetime import datetime, date"
   ]
  },
  {
   "cell_type": "code",
   "execution_count": 136,
   "metadata": {},
   "outputs": [
    {
     "name": "stderr",
     "output_type": "stream",
     "text": [
      "b'Skipping line 3194: expected 8 fields, saw 17\\nSkipping line 3205: expected 8 fields, saw 17\\nSkipping line 3255: expected 8 fields, saw 17\\nSkipping line 3520: expected 8 fields, saw 17\\nSkipping line 4078: expected 8 fields, saw 17\\nSkipping line 4087: expected 8 fields, saw 17\\nSkipping line 4088: expected 8 fields, saw 17\\nSkipping line 4499: expected 8 fields, saw 12\\n'\n"
     ]
    },
    {
     "data": {
      "text/html": [
       "<div>\n",
       "<style scoped>\n",
       "    .dataframe tbody tr th:only-of-type {\n",
       "        vertical-align: middle;\n",
       "    }\n",
       "\n",
       "    .dataframe tbody tr th {\n",
       "        vertical-align: top;\n",
       "    }\n",
       "\n",
       "    .dataframe thead th {\n",
       "        text-align: right;\n",
       "    }\n",
       "</style>\n",
       "<table border=\"1\" class=\"dataframe\">\n",
       "  <thead>\n",
       "    <tr style=\"text-align: right;\">\n",
       "      <th></th>\n",
       "      <th>id</th>\n",
       "      <th>text</th>\n",
       "      <th>timestamp</th>\n",
       "      <th>source</th>\n",
       "      <th>symbols</th>\n",
       "      <th>company_names</th>\n",
       "      <th>url</th>\n",
       "      <th>verified</th>\n",
       "    </tr>\n",
       "  </thead>\n",
       "  <tbody>\n",
       "    <tr>\n",
       "      <th>0</th>\n",
       "      <td>1019696670777503700</td>\n",
       "      <td>VIDEO: “I was in my office. I was minding my o...</td>\n",
       "      <td>Wed Jul 18 21:33:26 +0000 2018</td>\n",
       "      <td>GoldmanSachs</td>\n",
       "      <td>GS</td>\n",
       "      <td>The Goldman Sachs</td>\n",
       "      <td>https://twitter.com/i/web/status/1019696670777...</td>\n",
       "      <td>True</td>\n",
       "    </tr>\n",
       "    <tr>\n",
       "      <th>1</th>\n",
       "      <td>1019709091038548000</td>\n",
       "      <td>The price of lumber $LB_F is down 22% since hi...</td>\n",
       "      <td>Wed Jul 18 22:22:47 +0000 2018</td>\n",
       "      <td>StockTwits</td>\n",
       "      <td>M</td>\n",
       "      <td>Macy's</td>\n",
       "      <td>https://twitter.com/i/web/status/1019709091038...</td>\n",
       "      <td>True</td>\n",
       "    </tr>\n",
       "    <tr>\n",
       "      <th>2</th>\n",
       "      <td>1019711413798035500</td>\n",
       "      <td>Who says the American Dream is dead? https://t...</td>\n",
       "      <td>Wed Jul 18 22:32:01 +0000 2018</td>\n",
       "      <td>TheStreet</td>\n",
       "      <td>AIG</td>\n",
       "      <td>American</td>\n",
       "      <td>https://buff.ly/2L3kmc4</td>\n",
       "      <td>True</td>\n",
       "    </tr>\n",
       "    <tr>\n",
       "      <th>3</th>\n",
       "      <td>1019716662587740200</td>\n",
       "      <td>Barry Silbert is extremely optimistic on bitco...</td>\n",
       "      <td>Wed Jul 18 22:52:52 +0000 2018</td>\n",
       "      <td>MarketWatch</td>\n",
       "      <td>BTC</td>\n",
       "      <td>Bitcoin</td>\n",
       "      <td>https://twitter.com/i/web/status/1019716662587...</td>\n",
       "      <td>True</td>\n",
       "    </tr>\n",
       "    <tr>\n",
       "      <th>4</th>\n",
       "      <td>1019718460287389700</td>\n",
       "      <td>How satellites avoid attacks and space junk wh...</td>\n",
       "      <td>Wed Jul 18 23:00:01 +0000 2018</td>\n",
       "      <td>Forbes</td>\n",
       "      <td>ORCL</td>\n",
       "      <td>Oracle</td>\n",
       "      <td>http://on.forbes.com/6013DqDDU</td>\n",
       "      <td>True</td>\n",
       "    </tr>\n",
       "    <tr>\n",
       "      <th>...</th>\n",
       "      <td>...</td>\n",
       "      <td>...</td>\n",
       "      <td>...</td>\n",
       "      <td>...</td>\n",
       "      <td>...</td>\n",
       "      <td>...</td>\n",
       "      <td>...</td>\n",
       "      <td>...</td>\n",
       "    </tr>\n",
       "    <tr>\n",
       "      <th>28263</th>\n",
       "      <td>1019730088617635800</td>\n",
       "      <td>$FB : 29234a9c-7f08-4d5a-985f-cb1a5554ecf9</td>\n",
       "      <td>Wed Jul 18 23:46:13 +0000 2018</td>\n",
       "      <td>test5f1798</td>\n",
       "      <td>FB</td>\n",
       "      <td>Facebook</td>\n",
       "      <td>NaN</td>\n",
       "      <td>False</td>\n",
       "    </tr>\n",
       "    <tr>\n",
       "      <th>28264</th>\n",
       "      <td>1019730115524288500</td>\n",
       "      <td>【仮想通貨】ビットコインの価格上昇、８０万円台回復　約１カ月半ぶり　　　　　　$BTC ht...</td>\n",
       "      <td>Wed Jul 18 23:46:19 +0000 2018</td>\n",
       "      <td>keizai_toushi17</td>\n",
       "      <td>BTC</td>\n",
       "      <td>Bitcoin</td>\n",
       "      <td>http://keizai-toushi-navi.com/?p=26838</td>\n",
       "      <td>False</td>\n",
       "    </tr>\n",
       "    <tr>\n",
       "      <th>28265</th>\n",
       "      <td>1019730115805184000</td>\n",
       "      <td>RT @invest_in_hd: 'Nuff said!  $TEL #telcoin #...</td>\n",
       "      <td>Wed Jul 18 23:46:19 +0000 2018</td>\n",
       "      <td>iad81</td>\n",
       "      <td>BTC</td>\n",
       "      <td>Bitcoin</td>\n",
       "      <td>https://twitter.com/CRYPTOVERLOAD/status/10178...</td>\n",
       "      <td>False</td>\n",
       "    </tr>\n",
       "    <tr>\n",
       "      <th>28266</th>\n",
       "      <td>1019730117252341800</td>\n",
       "      <td>【仮想通貨】ビットコインの価格上昇、８０万円台回復　約１カ月半ぶり　　　　　　$BTC ht...</td>\n",
       "      <td>Wed Jul 18 23:46:20 +0000 2018</td>\n",
       "      <td>O8viWMyrCV6cBOZ</td>\n",
       "      <td>BTC</td>\n",
       "      <td>Bitcoin</td>\n",
       "      <td>http://true.velvet.jp/monexx/archives/2357</td>\n",
       "      <td>False</td>\n",
       "    </tr>\n",
       "    <tr>\n",
       "      <th>28267</th>\n",
       "      <td>1019730146180419600</td>\n",
       "      <td>Stellar $XLM price: $0.297852 Binance registra...</td>\n",
       "      <td>Wed Jul 18 23:46:27 +0000 2018</td>\n",
       "      <td>Descendent92</td>\n",
       "      <td>AMP</td>\n",
       "      <td>Ameriprise Financial</td>\n",
       "      <td>https://twitter.com/i/web/status/1019730146180...</td>\n",
       "      <td>False</td>\n",
       "    </tr>\n",
       "  </tbody>\n",
       "</table>\n",
       "<p>28268 rows × 8 columns</p>\n",
       "</div>"
      ],
      "text/plain": [
       "                        id                                               text  \\\n",
       "0      1019696670777503700  VIDEO: “I was in my office. I was minding my o...   \n",
       "1      1019709091038548000  The price of lumber $LB_F is down 22% since hi...   \n",
       "2      1019711413798035500  Who says the American Dream is dead? https://t...   \n",
       "3      1019716662587740200  Barry Silbert is extremely optimistic on bitco...   \n",
       "4      1019718460287389700  How satellites avoid attacks and space junk wh...   \n",
       "...                    ...                                                ...   \n",
       "28263  1019730088617635800         $FB : 29234a9c-7f08-4d5a-985f-cb1a5554ecf9   \n",
       "28264  1019730115524288500  【仮想通貨】ビットコインの価格上昇、８０万円台回復　約１カ月半ぶり　　　　　　$BTC ht...   \n",
       "28265  1019730115805184000  RT @invest_in_hd: 'Nuff said!  $TEL #telcoin #...   \n",
       "28266  1019730117252341800  【仮想通貨】ビットコインの価格上昇、８０万円台回復　約１カ月半ぶり　　　　　　$BTC ht...   \n",
       "28267  1019730146180419600  Stellar $XLM price: $0.297852 Binance registra...   \n",
       "\n",
       "                            timestamp           source symbols  \\\n",
       "0      Wed Jul 18 21:33:26 +0000 2018     GoldmanSachs      GS   \n",
       "1      Wed Jul 18 22:22:47 +0000 2018       StockTwits       M   \n",
       "2      Wed Jul 18 22:32:01 +0000 2018        TheStreet     AIG   \n",
       "3      Wed Jul 18 22:52:52 +0000 2018      MarketWatch     BTC   \n",
       "4      Wed Jul 18 23:00:01 +0000 2018           Forbes    ORCL   \n",
       "...                               ...              ...     ...   \n",
       "28263  Wed Jul 18 23:46:13 +0000 2018       test5f1798      FB   \n",
       "28264  Wed Jul 18 23:46:19 +0000 2018  keizai_toushi17     BTC   \n",
       "28265  Wed Jul 18 23:46:19 +0000 2018            iad81     BTC   \n",
       "28266  Wed Jul 18 23:46:20 +0000 2018  O8viWMyrCV6cBOZ     BTC   \n",
       "28267  Wed Jul 18 23:46:27 +0000 2018     Descendent92     AMP   \n",
       "\n",
       "              company_names  \\\n",
       "0         The Goldman Sachs   \n",
       "1                    Macy's   \n",
       "2                  American   \n",
       "3                   Bitcoin   \n",
       "4                    Oracle   \n",
       "...                     ...   \n",
       "28263              Facebook   \n",
       "28264               Bitcoin   \n",
       "28265               Bitcoin   \n",
       "28266               Bitcoin   \n",
       "28267  Ameriprise Financial   \n",
       "\n",
       "                                                     url  verified  \n",
       "0      https://twitter.com/i/web/status/1019696670777...      True  \n",
       "1      https://twitter.com/i/web/status/1019709091038...      True  \n",
       "2                                https://buff.ly/2L3kmc4      True  \n",
       "3      https://twitter.com/i/web/status/1019716662587...      True  \n",
       "4                         http://on.forbes.com/6013DqDDU      True  \n",
       "...                                                  ...       ...  \n",
       "28263                                                NaN     False  \n",
       "28264             http://keizai-toushi-navi.com/?p=26838     False  \n",
       "28265  https://twitter.com/CRYPTOVERLOAD/status/10178...     False  \n",
       "28266         http://true.velvet.jp/monexx/archives/2357     False  \n",
       "28267  https://twitter.com/i/web/status/1019730146180...     False  \n",
       "\n",
       "[28268 rows x 8 columns]"
      ]
     },
     "execution_count": 136,
     "metadata": {},
     "output_type": "execute_result"
    }
   ],
   "source": [
    "data = pd.read_csv('data/stockerbot-export.csv', sep=',', error_bad_lines=False, parse_dates=True)\n",
    "data['timestamp'] = pd.to_datetime(data['timestamp'])\n",
    "data"
   ]
  },
  {
   "cell_type": "code",
   "execution_count": 180,
   "metadata": {},
   "outputs": [
    {
     "data": {
      "image/png": "[encoded data removed]",
      "text/plain": [
       "<Figure size 1152x432 with 1 Axes>"
      ]
     },
     "metadata": {
      "needs_background": "light"
     },
     "output_type": "display_data"
    }
   ],
   "source": [
    "# Top 10 most cited companies\n",
    "\n",
    "top_cited_companies = data.groupby('symbols').count().sort_values(by='id', ascending=False).reset_index()\n",
    "\n",
    "def bar_plot(data, x, y, xlabel=None, ylabel=\"occurences\", title=None):\n",
    "    fig = plt.figure(figsize=(16, 6))\n",
    "    chart = sns.barplot(data=data, y=y, x=x)\n",
    "    chart.set_xticklabels(chart.get_xticklabels(), rotation=45, horizontalalignment='right')\n",
    "    plt.xlabel(xlabel)\n",
    "    plt.ylabel(ylabel)\n",
    "    plt.title(title)\n",
    "    plt.show()\n",
    "\n",
    "\n",
    "bar_plot(data=top_cited_companies.iloc[0:30], x='id', y='symbols', \n",
    "         ylabel='# of times mentioned', title='Most cited companies in financial tweets')"
   ]
  },
  {
   "cell_type": "code",
   "execution_count": 141,
   "metadata": {},
   "outputs": [],
   "source": []
  },
  {
   "cell_type": "code",
   "execution_count": 142,
   "metadata": {},
   "outputs": [
    {
     "data": {
      "image/png": "[encoded data removed]",
      "text/plain": [
       "<Figure size 1152x432 with 1 Axes>"
      ]
     },
     "metadata": {
      "needs_background": "light"
     },
     "output_type": "display_data"
    }
   ],
   "source": [
    "data['y-m-d'] = data['timestamp'].apply(lambda x: '{}-{}-{}'.format(x.year, x.month, x.day))\n",
    "time_data = data.groupby('y-m-d').count().sort_values(by='timestamp').reset_index()\n",
    "\n",
    "bar_plot(data=time_data, x='y-m-d', y='id', \n",
    "         xlabel=\"Date (Y-M-D)\", title='Number of tweets by date')"
   ]
  },
  {
   "cell_type": "markdown",
   "metadata": {},
   "source": [
    "We will filter the values to keep only\n",
    "- companies highly mentionned (>50)\n",
    "- continuous timeframe (2019-7-9 until 2018-7-18)"
   ]
  },
  {
   "cell_type": "code",
   "execution_count": 196,
   "metadata": {},
   "outputs": [
    {
     "data": {
      "text/html": [
       "<div>\n",
       "<style scoped>\n",
       "    .dataframe tbody tr th:only-of-type {\n",
       "        vertical-align: middle;\n",
       "    }\n",
       "\n",
       "    .dataframe tbody tr th {\n",
       "        vertical-align: top;\n",
       "    }\n",
       "\n",
       "    .dataframe thead th {\n",
       "        text-align: right;\n",
       "    }\n",
       "</style>\n",
       "<table border=\"1\" class=\"dataframe\">\n",
       "  <thead>\n",
       "    <tr style=\"text-align: right;\">\n",
       "      <th></th>\n",
       "      <th>index</th>\n",
       "      <th>id</th>\n",
       "      <th>text</th>\n",
       "      <th>timestamp</th>\n",
       "      <th>source</th>\n",
       "      <th>symbols</th>\n",
       "      <th>company_names</th>\n",
       "      <th>url</th>\n",
       "      <th>verified</th>\n",
       "      <th>y-m-d</th>\n",
       "    </tr>\n",
       "  </thead>\n",
       "  <tbody>\n",
       "    <tr>\n",
       "      <th>0</th>\n",
       "      <td>3</td>\n",
       "      <td>1019716662587740200</td>\n",
       "      <td>Barry Silbert is extremely optimistic on bitco...</td>\n",
       "      <td>2018-07-18 22:52:52+00:00</td>\n",
       "      <td>MarketWatch</td>\n",
       "      <td>BTC</td>\n",
       "      <td>Bitcoin</td>\n",
       "      <td>https://twitter.com/i/web/status/1019716662587...</td>\n",
       "      <td>True</td>\n",
       "      <td>2018-7-18</td>\n",
       "    </tr>\n",
       "    <tr>\n",
       "      <th>1</th>\n",
       "      <td>6</td>\n",
       "      <td>1019720209786114000</td>\n",
       "      <td>Don’t miss my convo with one of my favorite th...</td>\n",
       "      <td>2018-07-18 23:06:58+00:00</td>\n",
       "      <td>ianbremmer</td>\n",
       "      <td>HRS</td>\n",
       "      <td>Harris</td>\n",
       "      <td>https://twitter.com/samharrisorg/status/101971...</td>\n",
       "      <td>True</td>\n",
       "      <td>2018-7-18</td>\n",
       "    </tr>\n",
       "    <tr>\n",
       "      <th>2</th>\n",
       "      <td>8</td>\n",
       "      <td>1019720723441635300</td>\n",
       "      <td>Senate wants emergency alerts to go out throug...</td>\n",
       "      <td>2018-07-18 23:09:00+00:00</td>\n",
       "      <td>TechCrunch</td>\n",
       "      <td>NFLX</td>\n",
       "      <td>Netflix</td>\n",
       "      <td>https://tcrn.ch/2L8DsgT</td>\n",
       "      <td>True</td>\n",
       "      <td>2018-7-18</td>\n",
       "    </tr>\n",
       "    <tr>\n",
       "      <th>3</th>\n",
       "      <td>9</td>\n",
       "      <td>1019721145396887600</td>\n",
       "      <td>Hedge fund manager Marc Larsy says bitcoin $40...</td>\n",
       "      <td>2018-07-18 23:10:41+00:00</td>\n",
       "      <td>MarketWatch</td>\n",
       "      <td>BTC</td>\n",
       "      <td>Bitcoin</td>\n",
       "      <td>https://on.mktw.net/2Ntr7k9</td>\n",
       "      <td>True</td>\n",
       "      <td>2018-7-18</td>\n",
       "    </tr>\n",
       "    <tr>\n",
       "      <th>4</th>\n",
       "      <td>11</td>\n",
       "      <td>1019723744804245500</td>\n",
       "      <td>Roger Federer's Uniqlo deal makes him one of t...</td>\n",
       "      <td>2018-07-18 23:21:00+00:00</td>\n",
       "      <td>Forbes</td>\n",
       "      <td>ENDP</td>\n",
       "      <td>Endo</td>\n",
       "      <td>https://twitter.com/i/web/status/1019723744804...</td>\n",
       "      <td>True</td>\n",
       "      <td>2018-7-18</td>\n",
       "    </tr>\n",
       "    <tr>\n",
       "      <th>...</th>\n",
       "      <td>...</td>\n",
       "      <td>...</td>\n",
       "      <td>...</td>\n",
       "      <td>...</td>\n",
       "      <td>...</td>\n",
       "      <td>...</td>\n",
       "      <td>...</td>\n",
       "      <td>...</td>\n",
       "      <td>...</td>\n",
       "      <td>...</td>\n",
       "    </tr>\n",
       "    <tr>\n",
       "      <th>24369</th>\n",
       "      <td>28263</td>\n",
       "      <td>1019730088617635800</td>\n",
       "      <td>$FB : 29234a9c-7f08-4d5a-985f-cb1a5554ecf9</td>\n",
       "      <td>2018-07-18 23:46:13+00:00</td>\n",
       "      <td>test5f1798</td>\n",
       "      <td>FB</td>\n",
       "      <td>Facebook</td>\n",
       "      <td>NaN</td>\n",
       "      <td>False</td>\n",
       "      <td>2018-7-18</td>\n",
       "    </tr>\n",
       "    <tr>\n",
       "      <th>24370</th>\n",
       "      <td>28264</td>\n",
       "      <td>1019730115524288500</td>\n",
       "      <td>【仮想通貨】ビットコインの価格上昇、８０万円台回復　約１カ月半ぶり　　　　　　$BTC ht...</td>\n",
       "      <td>2018-07-18 23:46:19+00:00</td>\n",
       "      <td>keizai_toushi17</td>\n",
       "      <td>BTC</td>\n",
       "      <td>Bitcoin</td>\n",
       "      <td>http://keizai-toushi-navi.com/?p=26838</td>\n",
       "      <td>False</td>\n",
       "      <td>2018-7-18</td>\n",
       "    </tr>\n",
       "    <tr>\n",
       "      <th>24371</th>\n",
       "      <td>28265</td>\n",
       "      <td>1019730115805184000</td>\n",
       "      <td>RT @invest_in_hd: 'Nuff said!  $TEL #telcoin #...</td>\n",
       "      <td>2018-07-18 23:46:19+00:00</td>\n",
       "      <td>iad81</td>\n",
       "      <td>BTC</td>\n",
       "      <td>Bitcoin</td>\n",
       "      <td>https://twitter.com/CRYPTOVERLOAD/status/10178...</td>\n",
       "      <td>False</td>\n",
       "      <td>2018-7-18</td>\n",
       "    </tr>\n",
       "    <tr>\n",
       "      <th>24372</th>\n",
       "      <td>28266</td>\n",
       "      <td>1019730117252341800</td>\n",
       "      <td>【仮想通貨】ビットコインの価格上昇、８０万円台回復　約１カ月半ぶり　　　　　　$BTC ht...</td>\n",
       "      <td>2018-07-18 23:46:20+00:00</td>\n",
       "      <td>O8viWMyrCV6cBOZ</td>\n",
       "      <td>BTC</td>\n",
       "      <td>Bitcoin</td>\n",
       "      <td>http://true.velvet.jp/monexx/archives/2357</td>\n",
       "      <td>False</td>\n",
       "      <td>2018-7-18</td>\n",
       "    </tr>\n",
       "    <tr>\n",
       "      <th>24373</th>\n",
       "      <td>28267</td>\n",
       "      <td>1019730146180419600</td>\n",
       "      <td>Stellar $XLM price: $0.297852 Binance registra...</td>\n",
       "      <td>2018-07-18 23:46:27+00:00</td>\n",
       "      <td>Descendent92</td>\n",
       "      <td>AMP</td>\n",
       "      <td>Ameriprise Financial</td>\n",
       "      <td>https://twitter.com/i/web/status/1019730146180...</td>\n",
       "      <td>False</td>\n",
       "      <td>2018-7-18</td>\n",
       "    </tr>\n",
       "  </tbody>\n",
       "</table>\n",
       "<p>24374 rows × 10 columns</p>\n",
       "</div>"
      ],
      "text/plain": [
       "       index                   id  \\\n",
       "0          3  1019716662587740200   \n",
       "1          6  1019720209786114000   \n",
       "2          8  1019720723441635300   \n",
       "3          9  1019721145396887600   \n",
       "4         11  1019723744804245500   \n",
       "...      ...                  ...   \n",
       "24369  28263  1019730088617635800   \n",
       "24370  28264  1019730115524288500   \n",
       "24371  28265  1019730115805184000   \n",
       "24372  28266  1019730117252341800   \n",
       "24373  28267  1019730146180419600   \n",
       "\n",
       "                                                    text  \\\n",
       "0      Barry Silbert is extremely optimistic on bitco...   \n",
       "1      Don’t miss my convo with one of my favorite th...   \n",
       "2      Senate wants emergency alerts to go out throug...   \n",
       "3      Hedge fund manager Marc Larsy says bitcoin $40...   \n",
       "4      Roger Federer's Uniqlo deal makes him one of t...   \n",
       "...                                                  ...   \n",
       "24369         $FB : 29234a9c-7f08-4d5a-985f-cb1a5554ecf9   \n",
       "24370  【仮想通貨】ビットコインの価格上昇、８０万円台回復　約１カ月半ぶり　　　　　　$BTC ht...   \n",
       "24371  RT @invest_in_hd: 'Nuff said!  $TEL #telcoin #...   \n",
       "24372  【仮想通貨】ビットコインの価格上昇、８０万円台回復　約１カ月半ぶり　　　　　　$BTC ht...   \n",
       "24373  Stellar $XLM price: $0.297852 Binance registra...   \n",
       "\n",
       "                      timestamp           source symbols  \\\n",
       "0     2018-07-18 22:52:52+00:00      MarketWatch     BTC   \n",
       "1     2018-07-18 23:06:58+00:00       ianbremmer     HRS   \n",
       "2     2018-07-18 23:09:00+00:00       TechCrunch    NFLX   \n",
       "3     2018-07-18 23:10:41+00:00      MarketWatch     BTC   \n",
       "4     2018-07-18 23:21:00+00:00           Forbes    ENDP   \n",
       "...                         ...              ...     ...   \n",
       "24369 2018-07-18 23:46:13+00:00       test5f1798      FB   \n",
       "24370 2018-07-18 23:46:19+00:00  keizai_toushi17     BTC   \n",
       "24371 2018-07-18 23:46:19+00:00            iad81     BTC   \n",
       "24372 2018-07-18 23:46:20+00:00  O8viWMyrCV6cBOZ     BTC   \n",
       "24373 2018-07-18 23:46:27+00:00     Descendent92     AMP   \n",
       "\n",
       "              company_names  \\\n",
       "0                   Bitcoin   \n",
       "1                    Harris   \n",
       "2                   Netflix   \n",
       "3                   Bitcoin   \n",
       "4                      Endo   \n",
       "...                     ...   \n",
       "24369              Facebook   \n",
       "24370               Bitcoin   \n",
       "24371               Bitcoin   \n",
       "24372               Bitcoin   \n",
       "24373  Ameriprise Financial   \n",
       "\n",
       "                                                     url  verified      y-m-d  \n",
       "0      https://twitter.com/i/web/status/1019716662587...      True  2018-7-18  \n",
       "1      https://twitter.com/samharrisorg/status/101971...      True  2018-7-18  \n",
       "2                                https://tcrn.ch/2L8DsgT      True  2018-7-18  \n",
       "3                            https://on.mktw.net/2Ntr7k9      True  2018-7-18  \n",
       "4      https://twitter.com/i/web/status/1019723744804...      True  2018-7-18  \n",
       "...                                                  ...       ...        ...  \n",
       "24369                                                NaN     False  2018-7-18  \n",
       "24370             http://keizai-toushi-navi.com/?p=26838     False  2018-7-18  \n",
       "24371  https://twitter.com/CRYPTOVERLOAD/status/10178...     False  2018-7-18  \n",
       "24372         http://true.velvet.jp/monexx/archives/2357     False  2018-7-18  \n",
       "24373  https://twitter.com/i/web/status/1019730146180...     False  2018-7-18  \n",
       "\n",
       "[24374 rows x 10 columns]"
      ]
     },
     "execution_count": 196,
     "metadata": {},
     "output_type": "execute_result"
    }
   ],
   "source": [
    "data_filtered = data[data['timestamp'].apply(lambda x: x.date()) >= date(2018,7,9)]\n",
    "highly_mentionned_companies = list(top_cited_companies[top_cited_companies['id'] >= 50]['symbols'])\n",
    "data_filtered = data_filtered[data_filtered['symbols'].apply(lambda x: x in highly_mentionned_companies)].reset_index()\n",
    "data_filtered"
   ]
  },
  {
   "cell_type": "markdown",
   "metadata": {},
   "source": [
    "## Vectorization"
   ]
  },
  {
   "cell_type": "code",
   "execution_count": 254,
   "metadata": {},
   "outputs": [],
   "source": [
    "import re\n",
    "import string"
   ]
  },
  {
   "cell_type": "code",
   "execution_count": 284,
   "metadata": {},
   "outputs": [],
   "source": [
    "def remove_punctuation(txt):\n",
    "    \"\"\"Returns the string txt without punctuation.\"\"\"\n",
    "    return txt.translate(str.maketrans('', '', string.punctuation.replace(\"'\", \"\") + \"’·➡️\\“”\")) \n",
    "\n",
    "def preprocess_txt(txt):\n",
    "    #Remove links\n",
    "    link_regex = r'(http|ftp|https)://([\\w_-]+(?:(?:\\.[\\w_-]+)+))([\\w.,@?^=%&:/~+#-]*[\\w@?^=%&/~+#-])?'\n",
    "    txt = re.sub(link_regex, r'', txt)\n",
    "    txt = txt.replace(\"’\", \"'\")\n",
    "    #Remove punctuation\n",
    "    txt = remove_punctuation(txt)\n",
    "    txt = txt.lower()\n",
    "    return txt\n"
   ]
  },
  {
   "cell_type": "code",
   "execution_count": 285,
   "metadata": {},
   "outputs": [],
   "source": [
    "# Frequent tokens\n",
    "\n",
    "tokens_frequency = nltk.FreqDist(nltk.tokenize.word_tokenize(' '.join(data_filtered['text'].apply(preprocess_txt))))"
   ]
  },
  {
   "cell_type": "code",
   "execution_count": 289,
   "metadata": {},
   "outputs": [
    {
     "data": {
      "text/html": [
       "<div>\n",
       "<style scoped>\n",
       "    .dataframe tbody tr th:only-of-type {\n",
       "        vertical-align: middle;\n",
       "    }\n",
       "\n",
       "    .dataframe tbody tr th {\n",
       "        vertical-align: top;\n",
       "    }\n",
       "\n",
       "    .dataframe thead th {\n",
       "        text-align: right;\n",
       "    }\n",
       "</style>\n",
       "<table border=\"1\" class=\"dataframe\">\n",
       "  <thead>\n",
       "    <tr style=\"text-align: right;\">\n",
       "      <th></th>\n",
       "      <th>token</th>\n",
       "      <th>count</th>\n",
       "    </tr>\n",
       "  </thead>\n",
       "  <tbody>\n",
       "    <tr>\n",
       "      <th>170</th>\n",
       "      <td>rt</td>\n",
       "      <td>4176</td>\n",
       "    </tr>\n",
       "    <tr>\n",
       "      <th>534</th>\n",
       "      <td>inc</td>\n",
       "      <td>3396</td>\n",
       "    </tr>\n",
       "    <tr>\n",
       "      <th>276</th>\n",
       "      <td>amp</td>\n",
       "      <td>2278</td>\n",
       "    </tr>\n",
       "    <tr>\n",
       "      <th>51</th>\n",
       "      <td>'s</td>\n",
       "      <td>1773</td>\n",
       "    </tr>\n",
       "    <tr>\n",
       "      <th>290</th>\n",
       "      <td>stock</td>\n",
       "      <td>1604</td>\n",
       "    </tr>\n",
       "  </tbody>\n",
       "</table>\n",
       "</div>"
      ],
      "text/plain": [
       "     token  count\n",
       "170     rt   4176\n",
       "534    inc   3396\n",
       "276    amp   2278\n",
       "51      's   1773\n",
       "290  stock   1604"
      ]
     },
     "execution_count": 289,
     "metadata": {},
     "output_type": "execute_result"
    }
   ],
   "source": [
    "df_tokens_frequency = pd.DataFrame.from_dict(tokens_frequency, orient='index').reset_index()\n",
    "df_tokens_frequency.rename({'index': 'token', 0: 'count'}, axis=1, inplace=True)\n",
    "df_tokens_frequency = df_tokens_frequency[df_tokens_frequency['token'].apply(lambda x: x not in nltk.corpus.stopwords.words('english'))]\n",
    "df_tokens_frequency.sort_values(by='count', ascending=False).head()"
   ]
  },
  {
   "cell_type": "code",
   "execution_count": 288,
   "metadata": {},
   "outputs": [],
   "source": [
    "from sklearn.feature_extraction.text import TfidfVectorizer\n",
    "\n",
    "freq = TfidfVectorizer(preprocessor=preprocess_txt,\n",
    "                       stop_words=nltk.corpus.stopwords.words('english'),\n",
    "                      min_df=2)\n",
    "\n",
    "X = freq.fit_transform(data_filtered['text'])"
   ]
  },
  {
   "cell_type": "code",
   "execution_count": 313,
   "metadata": {},
   "outputs": [],
   "source": [
    "from sklearn.decomposition import TruncatedSVD, PCA\n",
    "\n",
    "pca = TruncatedSVD(n_components=500)\n",
    "X_pca = pca.fit_transform(X)"
   ]
  },
  {
   "cell_type": "code",
   "execution_count": 318,
   "metadata": {},
   "outputs": [
    {
     "data": {
      "text/plain": [
       "<matplotlib.axes._subplots.AxesSubplot at 0x7fed745e5150>"
      ]
     },
     "execution_count": 318,
     "metadata": {},
     "output_type": "execute_result"
    },
    {
     "data": {
      "image/png": "[encoded data removed]",
      "text/plain": [
       "<Figure size 432x288 with 1 Axes>"
      ]
     },
     "metadata": {
      "needs_background": "light"
     },
     "output_type": "display_data"
    }
   ],
   "source": [
    "X_pca_2 = PCA().fit_transform(X_pca)\n",
    "\n",
    "sns.scatterplot(X_pca_2[:,0], X_pca_2[:,1])"
   ]
  },
  {
   "cell_type": "code",
   "execution_count": 319,
   "metadata": {},
   "outputs": [
    {
     "data": {
      "text/plain": [
       "<matplotlib.axes._subplots.AxesSubplot at 0x7fed74545ed0>"
      ]
     },
     "execution_count": 319,
     "metadata": {},
     "output_type": "execute_result"
    },
    {
     "data": {
      "image/png": "[encoded data removed]",
      "text/plain": [
       "<Figure size 432x288 with 1 Axes>"
      ]
     },
     "metadata": {
      "needs_background": "light"
     },
     "output_type": "display_data"
    }
   ],
   "source": [
    "sns.lineplot(data=pca.singular_values_)"
   ]
  },
  {
   "cell_type": "code",
   "execution_count": null,
   "metadata": {},
   "outputs": [],
   "source": [
    "from sklearn.manifold import TSNE\n",
    "\n",
    "X_tsne = TSNE(n_components=2).fit_transform(X_pca_2)"
   ]
  },
  {
   "cell_type": "code",
   "execution_count": null,
   "metadata": {},
   "outputs": [],
   "source": [
    "sns.scatterplot(X_tsne[:,0], X_tsne[:,1])"
   ]
  },
  {
   "cell_type": "code",
   "execution_count": 310,
   "metadata": {},
   "outputs": [
    {
     "ename": "NameError",
     "evalue": "name 'X_tsne' is not defined",
     "output_type": "error",
     "traceback": [
      "\u001b[0;31m---------------------------------------------------------------------------\u001b[0m",
      "\u001b[0;31mNameError\u001b[0m                                 Traceback (most recent call last)",
      "\u001b[0;32m<ipython-input-310-fbc130c3d132>\u001b[0m in \u001b[0;36m<module>\u001b[0;34m\u001b[0m\n\u001b[0;32m----> 1\u001b[0;31m \u001b[0mX_tsne\u001b[0m\u001b[0;34m\u001b[0m\u001b[0;34m\u001b[0m\u001b[0m\n\u001b[0m",
      "\u001b[0;31mNameError\u001b[0m: name 'X_tsne' is not defined"
     ]
    }
   ],
   "source": []
  },
  {
   "cell_type": "code",
   "execution_count": null,
   "metadata": {},
   "outputs": [],
   "source": []
  }
 ],
 "metadata": {
  "kernelspec": {
   "display_name": "Python 3",
   "language": "python",
   "name": "python3"
  },
  "language_info": {
   "codemirror_mode": {
    "name": "ipython",
    "version": 3
   },
   "file_extension": ".py",
   "mimetype": "text/x-python",
   "name": "python",
   "nbconvert_exporter": "python",
   "pygments_lexer": "ipython3",
   "version": "3.7.5"
  }
 },
 "nbformat": 4,
 "nbformat_minor": 2
}
