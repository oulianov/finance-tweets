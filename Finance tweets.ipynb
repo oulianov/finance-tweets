{
 "cells": [
  {
   "cell_type": "markdown",
   "metadata": {},
   "source": [
    "# An NLP-powered exploration of financial tweets\n",
    "\n",
    "_Author : Nicolas Oulianov_\n",
    "\n",
    "## Introduction\n",
    "\n",
    "In this notebook, we analyze [a dataset of 28K financial tweets provided by David Wallach](https://www.kaggle.com/davidwallach/financial-tweets/data).  \n",
    "\n",
    "**The goal of this notebook is to explore the dataset.** That is, to understand _what are the kind_ of tweets in this dataset. \n",
    "\n",
    "To do that, we\n",
    "- encode the tweets using TF-IDF format\n",
    "- cluster the tweets based on this encoding with K-means\n",
    "- analyze some well-defined clusters\n",
    "\n",
    "We find that :\n",
    "- This model allows us to find relevant tweets about news in the technology sector and market predictions.\n",
    "- Data collection is flawed : the dataset contains lots of promotional tweets for cryptocurrency exchanges.\n",
    "- The TF-IDF encoding is susceptible to tweets spamming the same irrelevant keywords. \n",
    "\n",
    "We suggest ways to overcome these issues. At the end of this exploration, we gain valuable knowledge to build more robust data collection pipelines and NLP models."
   ]
  },
  {
   "cell_type": "code",
   "execution_count": 57,
   "metadata": {},
   "outputs": [],
   "source": [
    "import pandas as pd\n",
    "import nltk\n",
    "import seaborn as sns\n",
    "import matplotlib.pyplot as plt\n",
    "import numpy as np\n",
    "\n",
    "from datetime import datetime, date"
   ]
  },
  {
   "cell_type": "markdown",
   "metadata": {},
   "source": [
    "## 1. Importing data\n",
    "\n",
    "Since the data was scrapped from twitter, it's a bit dirty. Some lines are bad. Some characters encodings are wonky. Data augmentation is not perfect. This is to be expected when working with real life data.  "
   ]
  },
  {
   "cell_type": "code",
   "execution_count": 29,
   "metadata": {},
   "outputs": [
    {
     "name": "stderr",
     "output_type": "stream",
     "text": [
      "b'Skipping line 3194: expected 8 fields, saw 17\\nSkipping line 3205: expected 8 fields, saw 17\\nSkipping line 3255: expected 8 fields, saw 17\\nSkipping line 3520: expected 8 fields, saw 17\\nSkipping line 4078: expected 8 fields, saw 17\\nSkipping line 4087: expected 8 fields, saw 17\\nSkipping line 4088: expected 8 fields, saw 17\\nSkipping line 4499: expected 8 fields, saw 12\\n'\n"
     ]
    },
    {
     "data": {
      "text/html": [
       "<div>\n",
       "<style scoped>\n",
       "    .dataframe tbody tr th:only-of-type {\n",
       "        vertical-align: middle;\n",
       "    }\n",
       "\n",
       "    .dataframe tbody tr th {\n",
       "        vertical-align: top;\n",
       "    }\n",
       "\n",
       "    .dataframe thead th {\n",
       "        text-align: right;\n",
       "    }\n",
       "</style>\n",
       "<table border=\"1\" class=\"dataframe\">\n",
       "  <thead>\n",
       "    <tr style=\"text-align: right;\">\n",
       "      <th></th>\n",
       "      <th>id</th>\n",
       "      <th>text</th>\n",
       "      <th>timestamp</th>\n",
       "      <th>source</th>\n",
       "      <th>symbols</th>\n",
       "      <th>company_names</th>\n",
       "      <th>url</th>\n",
       "      <th>verified</th>\n",
       "    </tr>\n",
       "  </thead>\n",
       "  <tbody>\n",
       "    <tr>\n",
       "      <th>0</th>\n",
       "      <td>1019696670777503700</td>\n",
       "      <td>VIDEO: “I was in my office. I was minding my o...</td>\n",
       "      <td>2018-07-18 21:33:26+00:00</td>\n",
       "      <td>GoldmanSachs</td>\n",
       "      <td>GS</td>\n",
       "      <td>The Goldman Sachs</td>\n",
       "      <td>https://twitter.com/i/web/status/1019696670777...</td>\n",
       "      <td>True</td>\n",
       "    </tr>\n",
       "    <tr>\n",
       "      <th>1</th>\n",
       "      <td>1019709091038548000</td>\n",
       "      <td>The price of lumber $LB_F is down 22% since hi...</td>\n",
       "      <td>2018-07-18 22:22:47+00:00</td>\n",
       "      <td>StockTwits</td>\n",
       "      <td>M</td>\n",
       "      <td>Macy's</td>\n",
       "      <td>https://twitter.com/i/web/status/1019709091038...</td>\n",
       "      <td>True</td>\n",
       "    </tr>\n",
       "    <tr>\n",
       "      <th>2</th>\n",
       "      <td>1019711413798035500</td>\n",
       "      <td>Who says the American Dream is dead? https://t...</td>\n",
       "      <td>2018-07-18 22:32:01+00:00</td>\n",
       "      <td>TheStreet</td>\n",
       "      <td>AIG</td>\n",
       "      <td>American</td>\n",
       "      <td>https://buff.ly/2L3kmc4</td>\n",
       "      <td>True</td>\n",
       "    </tr>\n",
       "    <tr>\n",
       "      <th>3</th>\n",
       "      <td>1019716662587740200</td>\n",
       "      <td>Barry Silbert is extremely optimistic on bitco...</td>\n",
       "      <td>2018-07-18 22:52:52+00:00</td>\n",
       "      <td>MarketWatch</td>\n",
       "      <td>BTC</td>\n",
       "      <td>Bitcoin</td>\n",
       "      <td>https://twitter.com/i/web/status/1019716662587...</td>\n",
       "      <td>True</td>\n",
       "    </tr>\n",
       "    <tr>\n",
       "      <th>4</th>\n",
       "      <td>1019718460287389700</td>\n",
       "      <td>How satellites avoid attacks and space junk wh...</td>\n",
       "      <td>2018-07-18 23:00:01+00:00</td>\n",
       "      <td>Forbes</td>\n",
       "      <td>ORCL</td>\n",
       "      <td>Oracle</td>\n",
       "      <td>http://on.forbes.com/6013DqDDU</td>\n",
       "      <td>True</td>\n",
       "    </tr>\n",
       "  </tbody>\n",
       "</table>\n",
       "</div>"
      ],
      "text/plain": [
       "                    id                                               text  \\\n",
       "0  1019696670777503700  VIDEO: “I was in my office. I was minding my o...   \n",
       "1  1019709091038548000  The price of lumber $LB_F is down 22% since hi...   \n",
       "2  1019711413798035500  Who says the American Dream is dead? https://t...   \n",
       "3  1019716662587740200  Barry Silbert is extremely optimistic on bitco...   \n",
       "4  1019718460287389700  How satellites avoid attacks and space junk wh...   \n",
       "\n",
       "                  timestamp        source symbols      company_names  \\\n",
       "0 2018-07-18 21:33:26+00:00  GoldmanSachs      GS  The Goldman Sachs   \n",
       "1 2018-07-18 22:22:47+00:00    StockTwits       M             Macy's   \n",
       "2 2018-07-18 22:32:01+00:00     TheStreet     AIG           American   \n",
       "3 2018-07-18 22:52:52+00:00   MarketWatch     BTC            Bitcoin   \n",
       "4 2018-07-18 23:00:01+00:00        Forbes    ORCL             Oracle   \n",
       "\n",
       "                                                 url  verified  \n",
       "0  https://twitter.com/i/web/status/1019696670777...      True  \n",
       "1  https://twitter.com/i/web/status/1019709091038...      True  \n",
       "2                            https://buff.ly/2L3kmc4      True  \n",
       "3  https://twitter.com/i/web/status/1019716662587...      True  \n",
       "4                     http://on.forbes.com/6013DqDDU      True  "
      ]
     },
     "execution_count": 29,
     "metadata": {},
     "output_type": "execute_result"
    }
   ],
   "source": [
    "data = pd.read_csv('data/stockerbot-export.csv', sep=',', error_bad_lines=False, parse_dates=True)\n",
    "data['timestamp'] = pd.to_datetime(data['timestamp'])\n",
    "data.head(5)"
   ]
  },
  {
   "cell_type": "code",
   "execution_count": 30,
   "metadata": {},
   "outputs": [
    {
     "name": "stdout",
     "output_type": "stream",
     "text": [
      "There are 28268 tweets in the dataset\n"
     ]
    }
   ],
   "source": [
    "print('There are', data.shape[0], 'tweets in the dataset')"
   ]
  },
  {
   "cell_type": "markdown",
   "metadata": {},
   "source": [
    "## 2. Data visualization"
   ]
  },
  {
   "cell_type": "markdown",
   "metadata": {},
   "source": [
    "Let's look at the top 15 cited companies. We see that those companies are mostly from the United States. These tweets are most likely to be representative of the American market. "
   ]
  },
  {
   "cell_type": "code",
   "execution_count": 164,
   "metadata": {},
   "outputs": [
    {
     "data": {
      "image/png": "[encoded data removed]",
      "text/plain": [
       "<Figure size 1152x432 with 1 Axes>"
      ]
     },
     "metadata": {
      "needs_background": "light"
     },
     "output_type": "display_data"
    }
   ],
   "source": [
    "# Top 10 most cited companies\n",
    "top_cited_companies = data.groupby('company_names').count().sort_values(by='id', ascending=False).reset_index()\n",
    "\n",
    "def bar_plot(data, x, y, xlabel=None, ylabel=\"occurences\", title=None):\n",
    "    fig = plt.figure(figsize=(16, 6))\n",
    "    chart = sns.barplot(data=data, y=y, x=x)\n",
    "    chart.set_xticklabels(chart.get_xticklabels(), rotation=45, horizontalalignment='right')\n",
    "    plt.xlabel(xlabel)\n",
    "    plt.ylabel(ylabel)\n",
    "    plt.title(title)\n",
    "    plt.show()\n",
    "\n",
    "\n",
    "bar_plot(data=top_cited_companies.iloc[0:15], x='id', y='company_names', \n",
    "         ylabel='# of times mentioned', title='Most cited companies in financial tweets')"
   ]
  },
  {
   "cell_type": "markdown",
   "metadata": {},
   "source": [
    "Let's now look at the timeframe of the dataset. It is discontinuous. Tweets were mostly collected during 10 consecutive days in July 2018. The majority of tweets were collected on the 18th of July 2018.\n",
    "\n",
    "This means that we won't to be able to perform, for example, market prediction with these tweets : the timeframe is too narrow. And those tweets are unlikely to be representative of the whole year performance of those companies."
   ]
  },
  {
   "cell_type": "code",
   "execution_count": 32,
   "metadata": {},
   "outputs": [
    {
     "data": {
      "image/png": "[encoded data removed]",
      "text/plain": [
       "<Figure size 1152x432 with 1 Axes>"
      ]
     },
     "metadata": {
      "needs_background": "light"
     },
     "output_type": "display_data"
    }
   ],
   "source": [
    "data['y-m-d'] = data['timestamp'].apply(lambda x: '{}-{}-{}'.format(x.year, str(x.month).zfill(2), str(x.day).zfill(2)))\n",
    "time_data = data.groupby('y-m-d').count().reset_index()#.sort_values(by='timestamp').reset_index()\n",
    "time_data = time_data.sort_values(by='y-m-d')\n",
    "\n",
    "bar_plot(data=time_data, x='y-m-d', y='id', \n",
    "         xlabel=\"Date (Y-M-D)\", title='Number of tweets by date')"
   ]
  },
  {
   "cell_type": "markdown",
   "metadata": {},
   "source": [
    "Judging by this, we filter the values to keep only\n",
    "- companies highly mentionned (>50)\n",
    "- continuous timeframe (2019-7-9 until 2018-7-18)"
   ]
  },
  {
   "cell_type": "code",
   "execution_count": 33,
   "metadata": {},
   "outputs": [
    {
     "data": {
      "text/html": [
       "<div>\n",
       "<style scoped>\n",
       "    .dataframe tbody tr th:only-of-type {\n",
       "        vertical-align: middle;\n",
       "    }\n",
       "\n",
       "    .dataframe tbody tr th {\n",
       "        vertical-align: top;\n",
       "    }\n",
       "\n",
       "    .dataframe thead th {\n",
       "        text-align: right;\n",
       "    }\n",
       "</style>\n",
       "<table border=\"1\" class=\"dataframe\">\n",
       "  <thead>\n",
       "    <tr style=\"text-align: right;\">\n",
       "      <th></th>\n",
       "      <th>index</th>\n",
       "      <th>id</th>\n",
       "      <th>text</th>\n",
       "      <th>timestamp</th>\n",
       "      <th>source</th>\n",
       "      <th>symbols</th>\n",
       "      <th>company_names</th>\n",
       "      <th>url</th>\n",
       "      <th>verified</th>\n",
       "      <th>y-m-d</th>\n",
       "    </tr>\n",
       "  </thead>\n",
       "  <tbody>\n",
       "    <tr>\n",
       "      <th>0</th>\n",
       "      <td>3</td>\n",
       "      <td>1019716662587740200</td>\n",
       "      <td>Barry Silbert is extremely optimistic on bitco...</td>\n",
       "      <td>2018-07-18 22:52:52+00:00</td>\n",
       "      <td>MarketWatch</td>\n",
       "      <td>BTC</td>\n",
       "      <td>Bitcoin</td>\n",
       "      <td>https://twitter.com/i/web/status/1019716662587...</td>\n",
       "      <td>True</td>\n",
       "      <td>2018-07-18</td>\n",
       "    </tr>\n",
       "    <tr>\n",
       "      <th>1</th>\n",
       "      <td>8</td>\n",
       "      <td>1019720723441635300</td>\n",
       "      <td>Senate wants emergency alerts to go out throug...</td>\n",
       "      <td>2018-07-18 23:09:00+00:00</td>\n",
       "      <td>TechCrunch</td>\n",
       "      <td>NFLX</td>\n",
       "      <td>Netflix</td>\n",
       "      <td>https://tcrn.ch/2L8DsgT</td>\n",
       "      <td>True</td>\n",
       "      <td>2018-07-18</td>\n",
       "    </tr>\n",
       "    <tr>\n",
       "      <th>2</th>\n",
       "      <td>9</td>\n",
       "      <td>1019721145396887600</td>\n",
       "      <td>Hedge fund manager Marc Larsy says bitcoin $40...</td>\n",
       "      <td>2018-07-18 23:10:41+00:00</td>\n",
       "      <td>MarketWatch</td>\n",
       "      <td>BTC</td>\n",
       "      <td>Bitcoin</td>\n",
       "      <td>https://on.mktw.net/2Ntr7k9</td>\n",
       "      <td>True</td>\n",
       "      <td>2018-07-18</td>\n",
       "    </tr>\n",
       "    <tr>\n",
       "      <th>3</th>\n",
       "      <td>17</td>\n",
       "      <td>1019729988017377300</td>\n",
       "      <td>White House struggles to contain fallout from ...</td>\n",
       "      <td>2018-07-18 23:45:49+00:00</td>\n",
       "      <td>Reuters</td>\n",
       "      <td>UDR</td>\n",
       "      <td>UDR</td>\n",
       "      <td>https://reut.rs/2NrEv8t</td>\n",
       "      <td>True</td>\n",
       "      <td>2018-07-18</td>\n",
       "    </tr>\n",
       "    <tr>\n",
       "      <th>4</th>\n",
       "      <td>21</td>\n",
       "      <td>1019737727477174300</td>\n",
       "      <td>Templeton and BlackRock say now's the time to ...</td>\n",
       "      <td>2018-07-19 00:16:34+00:00</td>\n",
       "      <td>business</td>\n",
       "      <td>BLK</td>\n",
       "      <td>BlackRock</td>\n",
       "      <td>https://bloom.bg/2NmXZLe</td>\n",
       "      <td>True</td>\n",
       "      <td>2018-07-19</td>\n",
       "    </tr>\n",
       "    <tr>\n",
       "      <th>...</th>\n",
       "      <td>...</td>\n",
       "      <td>...</td>\n",
       "      <td>...</td>\n",
       "      <td>...</td>\n",
       "      <td>...</td>\n",
       "      <td>...</td>\n",
       "      <td>...</td>\n",
       "      <td>...</td>\n",
       "      <td>...</td>\n",
       "      <td>...</td>\n",
       "    </tr>\n",
       "    <tr>\n",
       "      <th>24464</th>\n",
       "      <td>28263</td>\n",
       "      <td>1019730088617635800</td>\n",
       "      <td>$FB : 29234a9c-7f08-4d5a-985f-cb1a5554ecf9</td>\n",
       "      <td>2018-07-18 23:46:13+00:00</td>\n",
       "      <td>test5f1798</td>\n",
       "      <td>FB</td>\n",
       "      <td>Facebook</td>\n",
       "      <td>NaN</td>\n",
       "      <td>False</td>\n",
       "      <td>2018-07-18</td>\n",
       "    </tr>\n",
       "    <tr>\n",
       "      <th>24465</th>\n",
       "      <td>28264</td>\n",
       "      <td>1019730115524288500</td>\n",
       "      <td>【仮想通貨】ビットコインの価格上昇、８０万円台回復　約１カ月半ぶり　　　　　　$BTC ht...</td>\n",
       "      <td>2018-07-18 23:46:19+00:00</td>\n",
       "      <td>keizai_toushi17</td>\n",
       "      <td>BTC</td>\n",
       "      <td>Bitcoin</td>\n",
       "      <td>http://keizai-toushi-navi.com/?p=26838</td>\n",
       "      <td>False</td>\n",
       "      <td>2018-07-18</td>\n",
       "    </tr>\n",
       "    <tr>\n",
       "      <th>24466</th>\n",
       "      <td>28265</td>\n",
       "      <td>1019730115805184000</td>\n",
       "      <td>RT @invest_in_hd: 'Nuff said!  $TEL #telcoin #...</td>\n",
       "      <td>2018-07-18 23:46:19+00:00</td>\n",
       "      <td>iad81</td>\n",
       "      <td>BTC</td>\n",
       "      <td>Bitcoin</td>\n",
       "      <td>https://twitter.com/CRYPTOVERLOAD/status/10178...</td>\n",
       "      <td>False</td>\n",
       "      <td>2018-07-18</td>\n",
       "    </tr>\n",
       "    <tr>\n",
       "      <th>24467</th>\n",
       "      <td>28266</td>\n",
       "      <td>1019730117252341800</td>\n",
       "      <td>【仮想通貨】ビットコインの価格上昇、８０万円台回復　約１カ月半ぶり　　　　　　$BTC ht...</td>\n",
       "      <td>2018-07-18 23:46:20+00:00</td>\n",
       "      <td>O8viWMyrCV6cBOZ</td>\n",
       "      <td>BTC</td>\n",
       "      <td>Bitcoin</td>\n",
       "      <td>http://true.velvet.jp/monexx/archives/2357</td>\n",
       "      <td>False</td>\n",
       "      <td>2018-07-18</td>\n",
       "    </tr>\n",
       "    <tr>\n",
       "      <th>24468</th>\n",
       "      <td>28267</td>\n",
       "      <td>1019730146180419600</td>\n",
       "      <td>Stellar $XLM price: $0.297852 Binance registra...</td>\n",
       "      <td>2018-07-18 23:46:27+00:00</td>\n",
       "      <td>Descendent92</td>\n",
       "      <td>AMP</td>\n",
       "      <td>Ameriprise Financial</td>\n",
       "      <td>https://twitter.com/i/web/status/1019730146180...</td>\n",
       "      <td>False</td>\n",
       "      <td>2018-07-18</td>\n",
       "    </tr>\n",
       "  </tbody>\n",
       "</table>\n",
       "<p>24469 rows × 10 columns</p>\n",
       "</div>"
      ],
      "text/plain": [
       "       index                   id  \\\n",
       "0          3  1019716662587740200   \n",
       "1          8  1019720723441635300   \n",
       "2          9  1019721145396887600   \n",
       "3         17  1019729988017377300   \n",
       "4         21  1019737727477174300   \n",
       "...      ...                  ...   \n",
       "24464  28263  1019730088617635800   \n",
       "24465  28264  1019730115524288500   \n",
       "24466  28265  1019730115805184000   \n",
       "24467  28266  1019730117252341800   \n",
       "24468  28267  1019730146180419600   \n",
       "\n",
       "                                                    text  \\\n",
       "0      Barry Silbert is extremely optimistic on bitco...   \n",
       "1      Senate wants emergency alerts to go out throug...   \n",
       "2      Hedge fund manager Marc Larsy says bitcoin $40...   \n",
       "3      White House struggles to contain fallout from ...   \n",
       "4      Templeton and BlackRock say now's the time to ...   \n",
       "...                                                  ...   \n",
       "24464         $FB : 29234a9c-7f08-4d5a-985f-cb1a5554ecf9   \n",
       "24465  【仮想通貨】ビットコインの価格上昇、８０万円台回復　約１カ月半ぶり　　　　　　$BTC ht...   \n",
       "24466  RT @invest_in_hd: 'Nuff said!  $TEL #telcoin #...   \n",
       "24467  【仮想通貨】ビットコインの価格上昇、８０万円台回復　約１カ月半ぶり　　　　　　$BTC ht...   \n",
       "24468  Stellar $XLM price: $0.297852 Binance registra...   \n",
       "\n",
       "                      timestamp           source symbols  \\\n",
       "0     2018-07-18 22:52:52+00:00      MarketWatch     BTC   \n",
       "1     2018-07-18 23:09:00+00:00       TechCrunch    NFLX   \n",
       "2     2018-07-18 23:10:41+00:00      MarketWatch     BTC   \n",
       "3     2018-07-18 23:45:49+00:00          Reuters     UDR   \n",
       "4     2018-07-19 00:16:34+00:00         business     BLK   \n",
       "...                         ...              ...     ...   \n",
       "24464 2018-07-18 23:46:13+00:00       test5f1798      FB   \n",
       "24465 2018-07-18 23:46:19+00:00  keizai_toushi17     BTC   \n",
       "24466 2018-07-18 23:46:19+00:00            iad81     BTC   \n",
       "24467 2018-07-18 23:46:20+00:00  O8viWMyrCV6cBOZ     BTC   \n",
       "24468 2018-07-18 23:46:27+00:00     Descendent92     AMP   \n",
       "\n",
       "              company_names  \\\n",
       "0                   Bitcoin   \n",
       "1                   Netflix   \n",
       "2                   Bitcoin   \n",
       "3                       UDR   \n",
       "4                 BlackRock   \n",
       "...                     ...   \n",
       "24464              Facebook   \n",
       "24465               Bitcoin   \n",
       "24466               Bitcoin   \n",
       "24467               Bitcoin   \n",
       "24468  Ameriprise Financial   \n",
       "\n",
       "                                                     url  verified       y-m-d  \n",
       "0      https://twitter.com/i/web/status/1019716662587...      True  2018-07-18  \n",
       "1                                https://tcrn.ch/2L8DsgT      True  2018-07-18  \n",
       "2                            https://on.mktw.net/2Ntr7k9      True  2018-07-18  \n",
       "3                                https://reut.rs/2NrEv8t      True  2018-07-18  \n",
       "4                               https://bloom.bg/2NmXZLe      True  2018-07-19  \n",
       "...                                                  ...       ...         ...  \n",
       "24464                                                NaN     False  2018-07-18  \n",
       "24465             http://keizai-toushi-navi.com/?p=26838     False  2018-07-18  \n",
       "24466  https://twitter.com/CRYPTOVERLOAD/status/10178...     False  2018-07-18  \n",
       "24467         http://true.velvet.jp/monexx/archives/2357     False  2018-07-18  \n",
       "24468  https://twitter.com/i/web/status/1019730146180...     False  2018-07-18  \n",
       "\n",
       "[24469 rows x 10 columns]"
      ]
     },
     "execution_count": 33,
     "metadata": {},
     "output_type": "execute_result"
    }
   ],
   "source": [
    "data_filtered = data[data['timestamp'].apply(lambda x: x.date()) >= date(2018,7,9)]\n",
    "highly_mentionned_companies = list(top_cited_companies[top_cited_companies['id'] >= 50]['company_names'])\n",
    "data_filtered = data_filtered[data_filtered['company_names'].apply(lambda x: x in highly_mentionned_companies)].reset_index()\n",
    "data_filtered"
   ]
  },
  {
   "cell_type": "markdown",
   "metadata": {},
   "source": [
    "To better understand the data, we'll perform some basic clustering. In order to do so, we need to first vectorize our data. That is, to transform tweets made from text into vectors made of numbers, that are compatible with clustering algorithms. \n",
    "\n",
    "This is what we'll take care of in the following parts.\n",
    "\n",
    "## 3. Tokenization\n",
    "\n",
    "We transform a text into a list of tokens (a generalization of _words_ ) using `nltk`. "
   ]
  },
  {
   "cell_type": "code",
   "execution_count": 34,
   "metadata": {},
   "outputs": [],
   "source": [
    "import re\n",
    "import string"
   ]
  },
  {
   "cell_type": "code",
   "execution_count": 35,
   "metadata": {},
   "outputs": [
    {
     "name": "stderr",
     "output_type": "stream",
     "text": [
      "[nltk_data] Downloading package punkt to /home/haxxor/nltk_data...\n",
      "[nltk_data]   Package punkt is already up-to-date!\n",
      "[nltk_data] Downloading package stopwords to /home/haxxor/nltk_data...\n",
      "[nltk_data]   Package stopwords is already up-to-date!\n"
     ]
    },
    {
     "data": {
      "text/plain": [
       "True"
      ]
     },
     "execution_count": 35,
     "metadata": {},
     "output_type": "execute_result"
    }
   ],
   "source": [
    "nltk.download('punkt')\n",
    "nltk.download('stopwords')"
   ]
  },
  {
   "cell_type": "code",
   "execution_count": 40,
   "metadata": {},
   "outputs": [],
   "source": [
    "def remove_punctuation(txt):\n",
    "    \"\"\"Returns the string txt without punctuation.\"\"\"\n",
    "    return txt.translate(str.maketrans('', '', string.punctuation.replace(\"'\", \"\") + \"’·➡️\\“”…\")) \n",
    "\n",
    "def preprocess_txt(txt):\n",
    "    #Remove links\n",
    "    link_regex = r'(http|ftp|https)://([\\w_-]+(?:(?:\\.[\\w_-]+)+))([\\w.,@?^=%&:/~+#-]*[\\w@?^=%&/~+#-])?'\n",
    "    txt = re.sub(link_regex, r'', txt)\n",
    "    txt = txt.replace(\"’\", \"'\")\n",
    "    #Remove punctuation\n",
    "    txt = remove_punctuation(txt)\n",
    "    txt = txt.lower()\n",
    "    return txt\n"
   ]
  },
  {
   "cell_type": "markdown",
   "metadata": {},
   "source": [
    "In order to clean the data and have meaningful tokens, we look at the most frequent tokens. This lets us find out that, for example :\n",
    "\n",
    "- we need to remove links from tweets\n",
    "- we need to remove some special punctuation characters"
   ]
  },
  {
   "cell_type": "code",
   "execution_count": 41,
   "metadata": {},
   "outputs": [],
   "source": [
    "# Frequent tokens\n",
    "tokens_frequency = nltk.FreqDist(nltk.tokenize.word_tokenize(' '.join(data_filtered['text'].apply(preprocess_txt))))"
   ]
  },
  {
   "cell_type": "code",
   "execution_count": 46,
   "metadata": {},
   "outputs": [
    {
     "data": {
      "text/html": [
       "<div>\n",
       "<style scoped>\n",
       "    .dataframe tbody tr th:only-of-type {\n",
       "        vertical-align: middle;\n",
       "    }\n",
       "\n",
       "    .dataframe tbody tr th {\n",
       "        vertical-align: top;\n",
       "    }\n",
       "\n",
       "    .dataframe thead th {\n",
       "        text-align: right;\n",
       "    }\n",
       "</style>\n",
       "<table border=\"1\" class=\"dataframe\">\n",
       "  <thead>\n",
       "    <tr style=\"text-align: right;\">\n",
       "      <th></th>\n",
       "      <th>token</th>\n",
       "      <th>count</th>\n",
       "    </tr>\n",
       "  </thead>\n",
       "  <tbody>\n",
       "    <tr>\n",
       "      <th>58</th>\n",
       "      <td>rt</td>\n",
       "      <td>4209</td>\n",
       "    </tr>\n",
       "    <tr>\n",
       "      <th>426</th>\n",
       "      <td>inc</td>\n",
       "      <td>3431</td>\n",
       "    </tr>\n",
       "    <tr>\n",
       "      <th>171</th>\n",
       "      <td>amp</td>\n",
       "      <td>2313</td>\n",
       "    </tr>\n",
       "    <tr>\n",
       "      <th>52</th>\n",
       "      <td>'s</td>\n",
       "      <td>1788</td>\n",
       "    </tr>\n",
       "    <tr>\n",
       "      <th>185</th>\n",
       "      <td>stock</td>\n",
       "      <td>1613</td>\n",
       "    </tr>\n",
       "    <tr>\n",
       "      <th>173</th>\n",
       "      <td>earnings</td>\n",
       "      <td>1607</td>\n",
       "    </tr>\n",
       "    <tr>\n",
       "      <th>328</th>\n",
       "      <td>price</td>\n",
       "      <td>1551</td>\n",
       "    </tr>\n",
       "    <tr>\n",
       "      <th>597</th>\n",
       "      <td>analysts</td>\n",
       "      <td>1420</td>\n",
       "    </tr>\n",
       "    <tr>\n",
       "      <th>377</th>\n",
       "      <td>eps</td>\n",
       "      <td>1185</td>\n",
       "    </tr>\n",
       "    <tr>\n",
       "      <th>72</th>\n",
       "      <td>us</td>\n",
       "      <td>1102</td>\n",
       "    </tr>\n",
       "    <tr>\n",
       "      <th>12</th>\n",
       "      <td>new</td>\n",
       "      <td>1033</td>\n",
       "    </tr>\n",
       "    <tr>\n",
       "      <th>55</th>\n",
       "      <td>buy</td>\n",
       "      <td>965</td>\n",
       "    </tr>\n",
       "    <tr>\n",
       "      <th>195</th>\n",
       "      <td>group</td>\n",
       "      <td>955</td>\n",
       "    </tr>\n",
       "    <tr>\n",
       "      <th>842</th>\n",
       "      <td>stocks</td>\n",
       "      <td>951</td>\n",
       "    </tr>\n",
       "    <tr>\n",
       "      <th>204</th>\n",
       "      <td>today</td>\n",
       "      <td>941</td>\n",
       "    </tr>\n",
       "    <tr>\n",
       "      <th>116</th>\n",
       "      <td>short</td>\n",
       "      <td>907</td>\n",
       "    </tr>\n",
       "    <tr>\n",
       "      <th>259</th>\n",
       "      <td>expected</td>\n",
       "      <td>899</td>\n",
       "    </tr>\n",
       "    <tr>\n",
       "      <th>7016</th>\n",
       "      <td>binance</td>\n",
       "      <td>886</td>\n",
       "    </tr>\n",
       "    <tr>\n",
       "      <th>257</th>\n",
       "      <td>co</td>\n",
       "      <td>796</td>\n",
       "    </tr>\n",
       "    <tr>\n",
       "      <th>264</th>\n",
       "      <td>million</td>\n",
       "      <td>795</td>\n",
       "    </tr>\n",
       "    <tr>\n",
       "      <th>524</th>\n",
       "      <td>rating</td>\n",
       "      <td>765</td>\n",
       "    </tr>\n",
       "    <tr>\n",
       "      <th>115</th>\n",
       "      <td>options</td>\n",
       "      <td>760</td>\n",
       "    </tr>\n",
       "    <tr>\n",
       "      <th>360</th>\n",
       "      <td>target</td>\n",
       "      <td>757</td>\n",
       "    </tr>\n",
       "    <tr>\n",
       "      <th>769</th>\n",
       "      <td>high</td>\n",
       "      <td>743</td>\n",
       "    </tr>\n",
       "    <tr>\n",
       "      <th>15589</th>\n",
       "      <td>register</td>\n",
       "      <td>733</td>\n",
       "    </tr>\n",
       "    <tr>\n",
       "      <th>393</th>\n",
       "      <td>trading</td>\n",
       "      <td>723</td>\n",
       "    </tr>\n",
       "    <tr>\n",
       "      <th>3040</th>\n",
       "      <td>join</td>\n",
       "      <td>718</td>\n",
       "    </tr>\n",
       "    <tr>\n",
       "      <th>9374</th>\n",
       "      <td>bonus</td>\n",
       "      <td>714</td>\n",
       "    </tr>\n",
       "    <tr>\n",
       "      <th>1203</th>\n",
       "      <td>jul</td>\n",
       "      <td>696</td>\n",
       "    </tr>\n",
       "    <tr>\n",
       "      <th>777</th>\n",
       "      <td>energy</td>\n",
       "      <td>696</td>\n",
       "    </tr>\n",
       "  </tbody>\n",
       "</table>\n",
       "</div>"
      ],
      "text/plain": [
       "          token  count\n",
       "58           rt   4209\n",
       "426         inc   3431\n",
       "171         amp   2313\n",
       "52           's   1788\n",
       "185       stock   1613\n",
       "173    earnings   1607\n",
       "328       price   1551\n",
       "597    analysts   1420\n",
       "377         eps   1185\n",
       "72           us   1102\n",
       "12          new   1033\n",
       "55          buy    965\n",
       "195       group    955\n",
       "842      stocks    951\n",
       "204       today    941\n",
       "116       short    907\n",
       "259    expected    899\n",
       "7016    binance    886\n",
       "257          co    796\n",
       "264     million    795\n",
       "524      rating    765\n",
       "115     options    760\n",
       "360      target    757\n",
       "769        high    743\n",
       "15589  register    733\n",
       "393     trading    723\n",
       "3040       join    718\n",
       "9374      bonus    714\n",
       "1203        jul    696\n",
       "777      energy    696"
      ]
     },
     "execution_count": 46,
     "metadata": {},
     "output_type": "execute_result"
    }
   ],
   "source": [
    "df_tokens_frequency = pd.DataFrame.from_dict(tokens_frequency, orient='index').reset_index()\n",
    "df_tokens_frequency.rename({'index': 'token', 0: 'count'}, axis=1, inplace=True)\n",
    "df_tokens_frequency = df_tokens_frequency[df_tokens_frequency['token'].apply(lambda x: x not in nltk.corpus.stopwords.words('english'))]\n",
    "df_tokens_frequency.sort_values(by='count', ascending=False).head(30)"
   ]
  },
  {
   "cell_type": "markdown",
   "metadata": {},
   "source": [
    "## 4. Encoding tweets with TF-IDF\n",
    "\n",
    "As a first way to vectorize our list of tokens, we use the [TF-IDF](https://en.wikipedia.org/wiki/Tf%E2%80%93idf) method. This is a classical NLP method to encode tokens, that favours those that are unique to a tweet. \n",
    "\n",
    "For the $j$-th tweet, the $i$-th coordinate of the encoded vector will be :\n",
    "\n",
    "$$w_{j,i} = \\text{tf}_{i,j} \\times \\log_2(\\frac{N}{\\text{df}_{i}}) $$\n",
    "\n",
    "Where\n",
    "\n",
    "- $\\text{tf}_{i,j}$ is the number of occurences of token $i$ in tweet $j$\n",
    "- $\\text{df}_{i}$ is the number of tweets containing token $i$\n",
    "- $N$ is the total number of tweets\n",
    "\n",
    "This method is simple, but quite powerful when dealing with domain specific linguo, such as in finance."
   ]
  },
  {
   "cell_type": "code",
   "execution_count": 47,
   "metadata": {},
   "outputs": [],
   "source": [
    "from sklearn.feature_extraction.text import TfidfVectorizer\n",
    "\n",
    "freq = TfidfVectorizer(preprocessor=preprocess_txt,\n",
    "                       stop_words=nltk.corpus.stopwords.words('english'),\n",
    "                      min_df=2) #Keep only tokens with more than 2 occurences\n",
    "\n",
    "X = freq.fit_transform(data_filtered['text'])"
   ]
  },
  {
   "cell_type": "code",
   "execution_count": 65,
   "metadata": {},
   "outputs": [
    {
     "name": "stdout",
     "output_type": "stream",
     "text": [
      "Tweets were encoded as a 13200 dimensions sparse vector\n"
     ]
    }
   ],
   "source": [
    "print('Tweets were encoded as a', X.shape[1], 'dimensions sparse vector')"
   ]
  },
  {
   "cell_type": "markdown",
   "metadata": {},
   "source": [
    "To get a better feel of what our preprocessing chain is doing, let's take a closer look at how the first tweet is encoded. \n",
    "\n",
    "Here is the original tweet :"
   ]
  },
  {
   "cell_type": "code",
   "execution_count": 66,
   "metadata": {},
   "outputs": [
    {
     "data": {
      "text/plain": [
       "'Barry Silbert is extremely optimistic on bitcoin -- but predicts that 99% of new crypto entrants are “going to zero… https://t.co/mGMVo2cZgY'"
      ]
     },
     "execution_count": 66,
     "metadata": {},
     "output_type": "execute_result"
    }
   ],
   "source": [
    "data_filtered['text'].iloc[0]"
   ]
  },
  {
   "cell_type": "markdown",
   "metadata": {},
   "source": [
    "Here is it preprocessed and tokenized :"
   ]
  },
  {
   "cell_type": "code",
   "execution_count": 69,
   "metadata": {},
   "outputs": [
    {
     "data": {
      "text/plain": [
       "['barry',\n",
       " 'silbert',\n",
       " 'extremely',\n",
       " 'optimistic',\n",
       " 'bitcoin',\n",
       " 'predicts',\n",
       " '99',\n",
       " 'new',\n",
       " 'crypto',\n",
       " 'entrants',\n",
       " 'going',\n",
       " 'zero']"
      ]
     },
     "execution_count": 69,
     "metadata": {},
     "output_type": "execute_result"
    }
   ],
   "source": [
    "[w for w in preprocess_txt(data_filtered['text'].iloc[0]).split() if w not in nltk.corpus.stopwords.words('english')]"
   ]
  },
  {
   "cell_type": "markdown",
   "metadata": {},
   "source": [
    "Here is its vectorized representation. Only 10 tokens were frequent enough to be encoded. "
   ]
  },
  {
   "cell_type": "code",
   "execution_count": 70,
   "metadata": {},
   "outputs": [
    {
     "data": {
      "text/plain": [
       "array([0.37276159, 0.25814631, 0.21366794, 0.1702604 , 0.32261625,\n",
       "       0.23714874, 0.37903516, 0.33911773, 0.40724461, 0.36732718])"
      ]
     },
     "execution_count": 70,
     "metadata": {},
     "output_type": "execute_result"
    }
   ],
   "source": [
    "X[0].data # We only show the values that are nonzeros in the sparse vector"
   ]
  },
  {
   "cell_type": "markdown",
   "metadata": {},
   "source": [
    "###  4.1 Visualization with UMAP algorithm\n",
    "\n",
    "To get a sense of the data repartition, we use the [UMAP algorithm](https://umap-learn.readthedocs.io/en/latest/) to quickly project our data into a 2D plane."
   ]
  },
  {
   "cell_type": "code",
   "execution_count": 91,
   "metadata": {},
   "outputs": [
    {
     "name": "stderr",
     "output_type": "stream",
     "text": [
      "/home/haxxor/.conda/envs/deep/lib/python3.7/site-packages/numba/typed_passes.py:293: NumbaPerformanceWarning: \n",
      "The keyword argument 'parallel=True' was specified but no transformation for parallel execution was possible.\n",
      "\n",
      "To find out why, try turning on parallel diagnostics, see http://numba.pydata.org/numba-doc/latest/user/parallel.html#diagnostics for help.\n",
      "\n",
      "File \"../../.conda/envs/deep/lib/python3.7/site-packages/umap/sparse.py\", line 176:\n",
      "    @numba.njit(parallel=True)\n",
      "    def nn_descent(\n",
      "    ^\n",
      "\n",
      "  state.func_ir.loc))\n",
      "/home/haxxor/.conda/envs/deep/lib/python3.7/site-packages/umap/spectral.py:229: UserWarning: Embedding a total of 5 separate connected components using meta-embedding (experimental)\n",
      "  n_components\n"
     ]
    }
   ],
   "source": [
    "from umap import UMAP\n",
    "\n",
    "X_umap = UMAP().fit_transform(X)"
   ]
  },
  {
   "cell_type": "markdown",
   "metadata": {},
   "source": [
    "We plot the output. Each different color correspond to the name of a different company. "
   ]
  },
  {
   "cell_type": "code",
   "execution_count": 92,
   "metadata": {},
   "outputs": [
    {
     "data": {
      "text/plain": [
       "<matplotlib.axes._subplots.AxesSubplot at 0x7fc7f8b1d490>"
      ]
     },
     "execution_count": 92,
     "metadata": {},
     "output_type": "execute_result"
    },
    {
     "data": {
      "image/png": "[encoded data removed]",
      "text/plain": [
       "<Figure size 432x288 with 1 Axes>"
      ]
     },
     "metadata": {
      "needs_background": "light"
     },
     "output_type": "display_data"
    }
   ],
   "source": [
    "sns.scatterplot(X_umap[:,0], X_umap[:,1], hue=data_filtered['company_names'], legend=None)"
   ]
  },
  {
   "cell_type": "markdown",
   "metadata": {},
   "source": [
    "What's important about the output of the UMAP algorithm are not the values themselves, since they are meaningless, but how do these values relate to each other. That is, how is the data distributed over the plane.\n",
    "\n",
    "Here, we see that there is one big central cluster, but also some small clusters all around. **This means that our clustering algorithm is likely to find meaningful clusters in the data.** "
   ]
  },
  {
   "cell_type": "markdown",
   "metadata": {},
   "source": [
    "### 4.2 Dimension reduction\n",
    "\n",
    "A 13,200 vector is great, but it's a bit too much for the computing power we have. The clustering algorithms would take too long to run. This is why we perform dimension reduction. \n",
    "\n",
    "In order to reduce dimension while keeping meaningful data, we use the PCA technique. "
   ]
  },
  {
   "cell_type": "code",
   "execution_count": 93,
   "metadata": {},
   "outputs": [],
   "source": [
    "from sklearn.decomposition import TruncatedSVD\n",
    "\n",
    "pca = TruncatedSVD(n_components=500)\n",
    "X_pca = pca.fit_transform(X)"
   ]
  },
  {
   "cell_type": "code",
   "execution_count": 96,
   "metadata": {},
   "outputs": [
    {
     "data": {
      "text/plain": [
       "<matplotlib.axes._subplots.AxesSubplot at 0x7fc7f9c03190>"
      ]
     },
     "execution_count": 96,
     "metadata": {},
     "output_type": "execute_result"
    },
    {
     "data": {
      "image/png": "[encoded data removed]",
      "text/plain": [
       "<Figure size 432x288 with 1 Axes>"
      ]
     },
     "metadata": {
      "needs_background": "light"
     },
     "output_type": "display_data"
    }
   ],
   "source": [
    "# There is an elbow around the 100-th singular value. \n",
    "# This means that we could keep only the first 100th value for data to be representative\n",
    "sns.lineplot(data=pca.singular_values_)"
   ]
  },
  {
   "cell_type": "code",
   "execution_count": 129,
   "metadata": {},
   "outputs": [],
   "source": [
    "# We tried clustering using only the first 100-th coordinates. But we were dissatisfied with the results.\n",
    "# So we use the whole 500 coordinates. \n",
    "X_reduced = X_pca#[:,:100]"
   ]
  },
  {
   "cell_type": "markdown",
   "metadata": {},
   "source": [
    "## 5. Clustering using K-Means"
   ]
  },
  {
   "cell_type": "markdown",
   "metadata": {},
   "source": [
    "### 5.1 K parameter selection using elbow method\n",
    "\n",
    "To pick the k (number of clusters) in the K-means algorithm, we use the elbow method. That is, we pick a k such has increasing k doesn't lower loss _that much_. "
   ]
  },
  {
   "cell_type": "code",
   "execution_count": 130,
   "metadata": {},
   "outputs": [],
   "source": [
    "from sklearn.cluster import KMeans\n",
    "\n",
    "losses = []\n",
    "k_parameters = list(range(1,30))\n",
    "\n",
    "for k in k_parameters:\n",
    "    kmean = KMeans(n_clusters=k, max_iter=6000, n_jobs=4)\n",
    "    kmean.fit(X_reduced)\n",
    "    losses.append(- kmean.score(X_reduced))"
   ]
  },
  {
   "cell_type": "code",
   "execution_count": 133,
   "metadata": {},
   "outputs": [
    {
     "data": {
      "image/png": "[encoded data removed]",
      "text/plain": [
       "<Figure size 432x288 with 1 Axes>"
      ]
     },
     "metadata": {
      "needs_background": "light"
     },
     "output_type": "display_data"
    }
   ],
   "source": [
    "plt.plot(k_parameters, losses)\n",
    "plt.xlabel('k parameter')\n",
    "plt.ylabel('loss on test set')\n",
    "plt.title('Performance of k-means clustering')\n",
    "plt.show()"
   ]
  },
  {
   "cell_type": "markdown",
   "metadata": {},
   "source": [
    "According to the graph above, `k=14` is the best. "
   ]
  },
  {
   "cell_type": "code",
   "execution_count": 134,
   "metadata": {},
   "outputs": [
    {
     "data": {
      "text/plain": [
       "KMeans(algorithm='auto', copy_x=True, init='k-means++', max_iter=6000,\n",
       "       n_clusters=14, n_init=10, n_jobs=4, precompute_distances='auto',\n",
       "       random_state=None, tol=0.0001, verbose=0)"
      ]
     },
     "execution_count": 134,
     "metadata": {},
     "output_type": "execute_result"
    }
   ],
   "source": [
    "kmean = KMeans(n_clusters=14, max_iter=6000, n_jobs=4)\n",
    "kmean.fit(X_reduced)"
   ]
  },
  {
   "cell_type": "markdown",
   "metadata": {},
   "source": [
    "### 5.2 Cluster analysis\n",
    "\n",
    "Looking at the cluster repartition below, we see, as expected, one big cluster with more than 10,000 tweets (more than 50% of the dataset), and a few smaller ones. We don't expected this large cluster to be especially meaningful, so we'll look more into the others. "
   ]
  },
  {
   "cell_type": "code",
   "execution_count": 144,
   "metadata": {},
   "outputs": [
    {
     "data": {
      "image/png": "[encoded data removed]",
      "text/plain": [
       "<Figure size 432x288 with 1 Axes>"
      ]
     },
     "metadata": {
      "needs_background": "light"
     },
     "output_type": "display_data"
    }
   ],
   "source": [
    "c_predicted = kmean.predict(X_reduced)\n",
    "classes, classes_count = np.unique(c_predicted, return_counts=True)\n",
    "\n",
    "sns.barplot(classes, classes_count)\n",
    "plt.yscale('log')\n",
    "plt.ylabel('Tweets in the cluster')\n",
    "plt.xlabel('Cluster id')\n",
    "plt.title('Clusters tweet repartition')\n",
    "plt.show()"
   ]
  },
  {
   "cell_type": "markdown",
   "metadata": {},
   "source": [
    "#### 5.2.1 Cluster 7 : Financial news about the technology market\n",
    "\n",
    "Let's start with the cluster 7. Looking at the mot frequent tokens, we see many symbols for big American tech companies : Amazon, Facebook, Netflix, Apple, Google, Microsoft, Tesla, Cisco, Alibaba... These tweets, we assume, are mostly about the innovative technology sector. "
   ]
  },
  {
   "cell_type": "code",
   "execution_count": 165,
   "metadata": {},
   "outputs": [
    {
     "data": {
      "image/png": "[encoded data removed]",
      "text/plain": [
       "<Figure size 1152x432 with 1 Axes>"
      ]
     },
     "metadata": {
      "needs_background": "light"
     },
     "output_type": "display_data"
    }
   ],
   "source": [
    "def get_most_frequent_tokens(data_text):\n",
    "    tokens_frequency = nltk.FreqDist(nltk.tokenize.word_tokenize(' '.join(data_text.apply(preprocess_txt))))\n",
    "    df_tokens_frequency = pd.DataFrame.from_dict(tokens_frequency, orient='index').reset_index()\n",
    "    df_tokens_frequency.rename({'index': 'token', 0: 'count'}, axis=1, inplace=True)\n",
    "    df_tokens_frequency = df_tokens_frequency[df_tokens_frequency['token'].apply(lambda x: x not in nltk.corpus.stopwords.words('english'))]\n",
    "    df_tokens_frequency = df_tokens_frequency.sort_values(by='count', ascending=False).head(30)\n",
    "    return df_tokens_frequency\n",
    "\n",
    "bar_plot(get_most_frequent_tokens(data_filtered.iloc[c_predicted==7]['text']), 'token', 'count')"
   ]
  },
  {
   "cell_type": "markdown",
   "metadata": {},
   "source": [
    "#### 5.2.2 Cluster 2 : Promotional tweets & spam detection\n",
    "\n",
    "Looking at cluster number 2, we see something radically different in the most frequent tokens : \n",
    "- marketing terms : register, bonus, discount, sign, fee, trade today, get one, join...\n",
    "- emojis implying wealth and success\n",
    "- cryptocurrencies references : binance, crypto, exchange, bitmex, trades...\n",
    "\n",
    "We guess that these must be a cluster of promotional tweets for Cryptocurrencies trading platforms. These aren't directly related to financial news and wouldn't be expected in \"Financial tweets\". \n",
    "\n",
    "In some applications, we would like to get rid of those. This can be done by better data collection. For example, by filtering out all the tweets that are predicted to be in cluster 2 by our model. "
   ]
  },
  {
   "cell_type": "code",
   "execution_count": 167,
   "metadata": {},
   "outputs": [
    {
     "data": {
      "text/html": [
       "<div>\n",
       "<style scoped>\n",
       "    .dataframe tbody tr th:only-of-type {\n",
       "        vertical-align: middle;\n",
       "    }\n",
       "\n",
       "    .dataframe tbody tr th {\n",
       "        vertical-align: top;\n",
       "    }\n",
       "\n",
       "    .dataframe thead th {\n",
       "        text-align: right;\n",
       "    }\n",
       "</style>\n",
       "<table border=\"1\" class=\"dataframe\">\n",
       "  <thead>\n",
       "    <tr style=\"text-align: right;\">\n",
       "      <th></th>\n",
       "      <th>token</th>\n",
       "      <th>count</th>\n",
       "    </tr>\n",
       "  </thead>\n",
       "  <tbody>\n",
       "    <tr>\n",
       "      <th>12</th>\n",
       "      <td>register</td>\n",
       "      <td>667</td>\n",
       "    </tr>\n",
       "    <tr>\n",
       "      <th>14</th>\n",
       "      <td>bonus</td>\n",
       "      <td>659</td>\n",
       "    </tr>\n",
       "    <tr>\n",
       "      <th>4</th>\n",
       "      <td>binance</td>\n",
       "      <td>466</td>\n",
       "    </tr>\n",
       "    <tr>\n",
       "      <th>2</th>\n",
       "      <td>crypto</td>\n",
       "      <td>232</td>\n",
       "    </tr>\n",
       "    <tr>\n",
       "      <th>8</th>\n",
       "      <td>discount</td>\n",
       "      <td>213</td>\n",
       "    </tr>\n",
       "    <tr>\n",
       "      <th>9</th>\n",
       "      <td>trading</td>\n",
       "      <td>208</td>\n",
       "    </tr>\n",
       "    <tr>\n",
       "      <th>74</th>\n",
       "      <td>exchange</td>\n",
       "      <td>204</td>\n",
       "    </tr>\n",
       "    <tr>\n",
       "      <th>54</th>\n",
       "      <td>sign</td>\n",
       "      <td>195</td>\n",
       "    </tr>\n",
       "    <tr>\n",
       "      <th>7</th>\n",
       "      <td>50</td>\n",
       "      <td>183</td>\n",
       "    </tr>\n",
       "    <tr>\n",
       "      <th>10</th>\n",
       "      <td>fee</td>\n",
       "      <td>175</td>\n",
       "    </tr>\n",
       "    <tr>\n",
       "      <th>63</th>\n",
       "      <td>trade</td>\n",
       "      <td>164</td>\n",
       "    </tr>\n",
       "    <tr>\n",
       "      <th>83</th>\n",
       "      <td>today</td>\n",
       "      <td>119</td>\n",
       "    </tr>\n",
       "    <tr>\n",
       "      <th>6</th>\n",
       "      <td>get</td>\n",
       "      <td>108</td>\n",
       "    </tr>\n",
       "    <tr>\n",
       "      <th>48</th>\n",
       "      <td>one</td>\n",
       "      <td>95</td>\n",
       "    </tr>\n",
       "    <tr>\n",
       "      <th>77</th>\n",
       "      <td>join</td>\n",
       "      <td>91</td>\n",
       "    </tr>\n",
       "    <tr>\n",
       "      <th>67</th>\n",
       "      <td>bitmex</td>\n",
       "      <td>91</td>\n",
       "    </tr>\n",
       "    <tr>\n",
       "      <th>89</th>\n",
       "      <td>🙌</td>\n",
       "      <td>87</td>\n",
       "    </tr>\n",
       "    <tr>\n",
       "      <th>22</th>\n",
       "      <td>🤔</td>\n",
       "      <td>87</td>\n",
       "    </tr>\n",
       "    <tr>\n",
       "      <th>43</th>\n",
       "      <td>🤑</td>\n",
       "      <td>83</td>\n",
       "    </tr>\n",
       "    <tr>\n",
       "      <th>57</th>\n",
       "      <td>💎</td>\n",
       "      <td>78</td>\n",
       "    </tr>\n",
       "    <tr>\n",
       "      <th>73</th>\n",
       "      <td>growing</td>\n",
       "      <td>77</td>\n",
       "    </tr>\n",
       "    <tr>\n",
       "      <th>58</th>\n",
       "      <td>💰</td>\n",
       "      <td>77</td>\n",
       "    </tr>\n",
       "    <tr>\n",
       "      <th>72</th>\n",
       "      <td>fastest</td>\n",
       "      <td>77</td>\n",
       "    </tr>\n",
       "    <tr>\n",
       "      <th>29</th>\n",
       "      <td>😍</td>\n",
       "      <td>76</td>\n",
       "    </tr>\n",
       "    <tr>\n",
       "      <th>82</th>\n",
       "      <td>trades</td>\n",
       "      <td>76</td>\n",
       "    </tr>\n",
       "    <tr>\n",
       "      <th>116</th>\n",
       "      <td>🚀</td>\n",
       "      <td>76</td>\n",
       "    </tr>\n",
       "    <tr>\n",
       "      <th>42</th>\n",
       "      <td>💸</td>\n",
       "      <td>73</td>\n",
       "    </tr>\n",
       "    <tr>\n",
       "      <th>11</th>\n",
       "      <td>😊</td>\n",
       "      <td>70</td>\n",
       "    </tr>\n",
       "    <tr>\n",
       "      <th>78</th>\n",
       "      <td>us</td>\n",
       "      <td>67</td>\n",
       "    </tr>\n",
       "    <tr>\n",
       "      <th>86</th>\n",
       "      <td>discounts</td>\n",
       "      <td>63</td>\n",
       "    </tr>\n",
       "  </tbody>\n",
       "</table>\n",
       "</div>"
      ],
      "text/plain": [
       "         token  count\n",
       "12    register    667\n",
       "14       bonus    659\n",
       "4      binance    466\n",
       "2       crypto    232\n",
       "8     discount    213\n",
       "9      trading    208\n",
       "74    exchange    204\n",
       "54        sign    195\n",
       "7           50    183\n",
       "10         fee    175\n",
       "63       trade    164\n",
       "83       today    119\n",
       "6          get    108\n",
       "48         one     95\n",
       "77        join     91\n",
       "67      bitmex     91\n",
       "89           🙌     87\n",
       "22           🤔     87\n",
       "43           🤑     83\n",
       "57           💎     78\n",
       "73     growing     77\n",
       "58           💰     77\n",
       "72     fastest     77\n",
       "29           😍     76\n",
       "82      trades     76\n",
       "116          🚀     76\n",
       "42           💸     73\n",
       "11           😊     70\n",
       "78          us     67\n",
       "86   discounts     63"
      ]
     },
     "execution_count": 167,
     "metadata": {},
     "output_type": "execute_result"
    }
   ],
   "source": [
    "get_most_frequent_tokens(data_filtered.iloc[c_predicted==2]['text'])"
   ]
  },
  {
   "cell_type": "markdown",
   "metadata": {},
   "source": [
    "#### 5.2.3 Cluster 13 : Tweets about forecasting the market\n",
    "\n",
    "On tweeter, many analysts share their forecasting about stocks. Cluster 13 is filled with those predictions, as future-specific tokens show it : expected, post, announce, anticipate, expect, estimated, forecasts, forecasted..."
   ]
  },
  {
   "cell_type": "code",
   "execution_count": 168,
   "metadata": {},
   "outputs": [
    {
     "data": {
      "image/png": "[encoded data removed]",
      "text/plain": [
       "<Figure size 1152x432 with 1 Axes>"
      ]
     },
     "metadata": {
      "needs_background": "light"
     },
     "output_type": "display_data"
    }
   ],
   "source": [
    "bar_plot(get_most_frequent_tokens(data_filtered.iloc[c_predicted==13]['text']), 'token', 'count')"
   ]
  },
  {
   "cell_type": "markdown",
   "metadata": {},
   "source": [
    "#### 5.2.4 Cluster 11 : Limits of TF-IDF\n",
    "\n",
    "Cluster 11 is interesting to look into as it highlights the issues with the TF-IDF data encoding. Indeed, the 3 most frequent tokens are : Zacks Investment Research. This is a [Financial research company](https://www.zacks.com). "
   ]
  },
  {
   "cell_type": "code",
   "execution_count": 169,
   "metadata": {},
   "outputs": [
    {
     "data": {
      "image/png": "[encoded data removed]",
      "text/plain": [
       "<Figure size 1152x432 with 1 Axes>"
      ]
     },
     "metadata": {
      "needs_background": "light"
     },
     "output_type": "display_data"
    }
   ],
   "source": [
    "bar_plot(get_most_frequent_tokens(data_filtered.iloc[c_predicted==11]['text']), 'token', 'count')"
   ]
  },
  {
   "cell_type": "markdown",
   "metadata": {},
   "source": [
    "Looking into the tweets, we see that those 3 keywords are featured constantly in the tweets. "
   ]
  },
  {
   "cell_type": "code",
   "execution_count": 156,
   "metadata": {},
   "outputs": [
    {
     "data": {
      "text/plain": [
       "73       Zacks Investment Research Upgrades Torchmark $...\n",
       "74       Zacks Investment Research Upgrades Torchmark $...\n",
       "81       Stericycle $SRCL Stock Rating Upgraded by Zack...\n",
       "82       Stericycle $SRCL Lifted to “Buy” at Zacks Inve...\n",
       "665      Torchmark $TMK Upgraded at Zacks Investment Re...\n",
       "                               ...                        \n",
       "20746    Cisco Systems $CSCO Downgraded to “Hold” at Za...\n",
       "20902    Zacks Investment Research Lowers Tractor Suppl...\n",
       "20921    TJX Companies $TJX Stock Rating Upgraded by Za...\n",
       "20934    Zacks Investment Research Lowers Tractor Suppl...\n",
       "20936    Zacks Investment Research Lowers Tractor Suppl...\n",
       "Name: text, Length: 415, dtype: object"
      ]
     },
     "execution_count": 156,
     "metadata": {},
     "output_type": "execute_result"
    }
   ],
   "source": [
    "data_filtered.iloc[c_predicted==11]['text']"
   ]
  },
  {
   "cell_type": "markdown",
   "metadata": {},
   "source": [
    "In other words, here our model ditch in this cluster every tweet featuring keywords \"Zacks investment research\". This is due to our way of encoding tokens into vectors. \"Zacks investment research\" is rare enough so that it scores high on TF-IDF.\n",
    "\n",
    "This is not a behaviour we'd like : we'd want the model to be most interested in companies those tweets are about. \n",
    "\n",
    "To solve this issue we could filter out the words \"Zacks investment research\" in our preprocessing, or look into a more complex encoding of data. "
   ]
  },
  {
   "cell_type": "markdown",
   "metadata": {},
   "source": [
    "## 6. Conclusion\n",
    "\n",
    "At the end of this data exploration, we found that :\n",
    "- Our model allows us to find relevant tweets about news in the technology sector and market predictions.\n",
    "- Data collection is flawed : the dataset contains lots of promotional tweets for cryptocurrency exchanges.\n",
    "- The TF-IDF encoding is susceptible to tweets spamming the same irrelevant keywords. \n",
    "\n",
    "We suggested ways to overcome these issues. Overall, we gained some valuable knowledge about data collection pipelines and building NLP models for tweets. This data exploration was fruitful !"
   ]
  },
  {
   "cell_type": "code",
   "execution_count": null,
   "metadata": {},
   "outputs": [],
   "source": []
  }
 ],
 "metadata": {
  "kernelspec": {
   "display_name": "Python 3",
   "language": "python",
   "name": "python3"
  },
  "language_info": {
   "codemirror_mode": {
    "name": "ipython",
    "version": 3
   },
   "file_extension": ".py",
   "mimetype": "text/x-python",
   "name": "python",
   "nbconvert_exporter": "python",
   "pygments_lexer": "ipython3",
   "version": "3.7.6"
  }
 },
 "nbformat": 4,
 "nbformat_minor": 2
}
